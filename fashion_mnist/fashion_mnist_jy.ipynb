{
  "nbformat": 4,
  "nbformat_minor": 0,
  "metadata": {
    "colab": {
      "name": "fashion_mnist_jy.ipynb",
      "version": "0.3.2",
      "provenance": [],
      "collapsed_sections": []
    },
    "kernelspec": {
      "name": "python3",
      "display_name": "Python 3"
    }
  },
  "cells": [
    {
      "cell_type": "markdown",
      "metadata": {
        "id": "Am5Jnv588jiC",
        "colab_type": "text"
      },
      "source": [
        "**Fashion mnist**\n",
        "\n",
        "Fashion mnistとは\n",
        "・服、鞄、靴などのイメージを分類すること\n",
        "\n",
        "学習順番\n",
        "\n",
        "１。データロード\n",
        "\n",
        "２。データ可視化\n",
        "\n",
        "３。データ前処理\n",
        "\n",
        "４。モデル定義\n",
        "\n",
        "５。データ拡張\n",
        "\n",
        "６。学習処理\n",
        "\n",
        "７。入力画像と推論結果を表示"
      ]
    },
    {
      "cell_type": "code",
      "metadata": {
        "id": "DGj5o98e8ibe",
        "colab_type": "code",
        "colab": {}
      },
      "source": [
        "import keras"
      ],
      "execution_count": 0,
      "outputs": []
    },
    {
      "cell_type": "code",
      "metadata": {
        "id": "moMbojF57Vcb",
        "colab_type": "code",
        "colab": {}
      },
      "source": [
        "from keras.datasets import fashion_mnist\n",
        "from keras.utils import to_categorical\n",
        "from keras.preprocessing.image import ImageDataGenerator\n",
        "from keras.preprocessing import image\n",
        "from keras import models\n",
        "from keras.models import Model\n",
        "from keras import Input\n",
        "from keras.layers import Activation, Conv2D, MaxPooling2D, Flatten, Dense\n",
        "from keras.callbacks import TensorBoard, ModelCheckpoint\n",
        "import matplotlib.pyplot as plt\n",
        "import numpy as np\n",
        "from sklearn.model_selection import train_test_split"
      ],
      "execution_count": 0,
      "outputs": []
    },
    {
      "cell_type": "code",
      "metadata": {
        "id": "Ms8zWuU57YA7",
        "colab_type": "code",
        "outputId": "36ee1dd2-cf52-49ed-a66f-b6d5fea99ba3",
        "colab": {
          "base_uri": "https://localhost:8080/",
          "height": 153
        }
      },
      "source": [
        "# fashion_mnist データロード\n",
        "(x_train, y_train), (x_test, y_test) = fashion_mnist.load_data()"
      ],
      "execution_count": 3,
      "outputs": [
        {
          "output_type": "stream",
          "text": [
            "Downloading data from http://fashion-mnist.s3-website.eu-central-1.amazonaws.com/train-labels-idx1-ubyte.gz\n",
            "32768/29515 [=================================] - 0s 3us/step\n",
            "Downloading data from http://fashion-mnist.s3-website.eu-central-1.amazonaws.com/train-images-idx3-ubyte.gz\n",
            "26427392/26421880 [==============================] - 1s 0us/step\n",
            "Downloading data from http://fashion-mnist.s3-website.eu-central-1.amazonaws.com/t10k-labels-idx1-ubyte.gz\n",
            "8192/5148 [===============================================] - 0s 0us/step\n",
            "Downloading data from http://fashion-mnist.s3-website.eu-central-1.amazonaws.com/t10k-images-idx3-ubyte.gz\n",
            "4423680/4422102 [==============================] - 1s 0us/step\n"
          ],
          "name": "stdout"
        }
      ]
    },
    {
      "cell_type": "code",
      "metadata": {
        "id": "B2w_fKyd-cih",
        "colab_type": "code",
        "colab": {}
      },
      "source": [
        "# データをトレーニング用、評価用に分割\n",
        "# 学習データ8割、検証データを2割に分割\n",
        "_x_train, _x_test, _y_train, _y_test = train_test_split(x_train, y_train, test_size=0.2)"
      ],
      "execution_count": 0,
      "outputs": []
    },
    {
      "cell_type": "code",
      "metadata": {
        "id": "rYHqw_Je-ct4",
        "colab_type": "code",
        "outputId": "05c67d2b-f100-4012-8b61-de70009aa276",
        "colab": {
          "base_uri": "https://localhost:8080/",
          "height": 85
        }
      },
      "source": [
        "print(\"x_train   : \", _x_train.shape) # x_train   :  (48000, 28, 28)\n",
        "print(\"y_train   : \", _y_train.shape) # y_train   :  (48000,)\n",
        "print(\"x_test    : \", _x_test.shape) # x_test    :  (10000, 28, 28)\n",
        "print(\"y_test    : \", _y_test.shape) # y_test    :  (10000,)"
      ],
      "execution_count": 5,
      "outputs": [
        {
          "output_type": "stream",
          "text": [
            "x_train   :  (48000, 28, 28)\n",
            "y_train   :  (48000,)\n",
            "x_test    :  (12000, 28, 28)\n",
            "y_test    :  (12000,)\n"
          ],
          "name": "stdout"
        }
      ]
    },
    {
      "cell_type": "code",
      "metadata": {
        "id": "weMIuoWRAIGu",
        "colab_type": "code",
        "outputId": "f817a61e-553c-4b90-bc35-34e05cb97383",
        "colab": {
          "base_uri": "https://localhost:8080/",
          "height": 729
        }
      },
      "source": [
        "plt.figure(figsize=(10,10))\n",
        "\n",
        "# MNISTの0から9の画像をそれぞれ表示する。\n",
        "for i in range(10):\n",
        "    data = [(x,t) for x, t in zip(_x_train, _y_train) if t == i]\n",
        "    x, y = data[0]\n",
        "\n",
        "    plt.subplot(5,2, i+1)\n",
        "    # plt.title()はタイトルを表示する。ここでは画像枚数を表示している。\n",
        "    plt.title(\"len={}\".format(len(data)))\n",
        "    # 画像を見やすいように座標軸を非表示にする。\n",
        "    plt.axis(\"off\")\n",
        "    plt.imshow(x, cmap='gray')\n",
        "\n",
        "plt.tight_layout()\n",
        "plt.show()"
      ],
      "execution_count": 6,
      "outputs": [
        {
          "output_type": "display_data",
          "data": {
            "image/png": "[encoded data removed]",
            "text/plain": [
              "<Figure size 720x720 with 10 Axes>"
            ]
          },
          "metadata": {
            "tags": []
          }
        }
      ]
    },
    {
      "cell_type": "code",
      "metadata": {
        "id": "WUWNFzL8Bok2",
        "colab_type": "code",
        "colab": {}
      },
      "source": [
        "# 学習、検証、テストデータの前処理用関数。\n",
        "def preprocess(data, label=False):\n",
        "    if label:\n",
        "        # データはto_categorical()でone-hot-encodingする。\n",
        "        # one-hot-encodingとは\n",
        "        # PCの立場だと各々のアイテムに例のように固有番号つける。\n",
        "        #　例）apple = 1, banana = 2\n",
        "        # But,単純に固有番号を与えると問題が発生する,\n",
        "        # なので、MerchineLearningでは例のようにVectorDataで表す。\n",
        "        #　例）apple = [1,0], banana = [0,1]\n",
        "        # 要は、各々のアイテムにindexを付与、\n",
        "        # ということは、表現したいアイテムにi「１」を与え、他のアイテムには「０」を与える\n",
        "        data = to_categorical(data)\n",
        "    else:\n",
        "        # 入力画像は、astype('float32')で型変換を行い、レンジを0-1にするために255で割る。\n",
        "        # 0-255 -> 0-1\n",
        "        data = data.astype('float32') / 255\n",
        "        # Kerasの入力データの形式は(ミニバッチサイズ、横幅、縦幅、チャネル数)である必要があるので、reshape()を使って形式を変換する。\n",
        "        # (sample, width, height) -> (sample, width, height, channel)\n",
        "        data = data.reshape((-1, 28, 28, 1))\n",
        "\n",
        "    return data"
      ],
      "execution_count": 0,
      "outputs": []
    },
    {
      "cell_type": "code",
      "metadata": {
        "id": "TEczjhUcBoqp",
        "colab_type": "code",
        "colab": {
          "base_uri": "https://localhost:8080/",
          "height": 119
        },
        "outputId": "d9257d37-06b2-464f-8a0f-2c09c4d91a13"
      },
      "source": [
        "x_train = preprocess(_x_train)\n",
        "x_test = preprocess(_x_test)\n",
        "\n",
        "y_train = preprocess(_y_train, label=True)\n",
        "y_test = preprocess(_y_test, label=True)\n",
        "\n",
        "print(x_train.shape) # (48000, 28, 28, 1)\n",
        "print(x_test.shape) # (10000, 28, 28, 1)\n",
        "print(x_train.max()) # 1.0\n",
        "print(y_test.max()) # 1.0\n",
        "print(y_train.shape) # (48000, 10)\n",
        "print(y_test.shape) # (10000, 10)"
      ],
      "execution_count": 9,
      "outputs": [
        {
          "output_type": "stream",
          "text": [
            "(48000, 28, 28, 1)\n",
            "(12000, 28, 28, 1)\n",
            "1.0\n",
            "1.0\n",
            "(48000, 10)\n",
            "(12000, 10)\n"
          ],
          "name": "stdout"
        }
      ]
    },
    {
      "cell_type": "code",
      "metadata": {
        "id": "YffulOnm4amF",
        "colab_type": "code",
        "colab": {}
      },
      "source": [
        "#sequential model 定義\n",
        "def model_sequential():\n",
        "    activation = 'relu'\n",
        "\n",
        "    model = models.Sequential()\n",
        "\n",
        "    model.add(Conv2D(32, (3, 3), padding='same', name='conv1', input_shape=(28, 28 , 1)))\n",
        "    model.add(Activation(activation, name='act1'))\n",
        "    model.add(MaxPooling2D((2, 2), name='pool1'))\n",
        "\n",
        "    model.add(Conv2D(64, (3, 3), padding='same', name='conv2'))\n",
        "    model.add(Activation(activation, name='act2'))\n",
        "    model.add(MaxPooling2D((2, 2), name='pool2'))\n",
        "\n",
        "    model.add(Conv2D(128, (3, 3), padding='same', name='conv3'))\n",
        "    model.add(Activation(activation, name='act3'))\n",
        "\n",
        "    model.add(Flatten(name='flatten'))\n",
        "    model.add(Dense(64, name='dense4'))\n",
        "    model.add(Activation(activation, name='act4'))\n",
        "    model.add(Dense(10, name='dense5'))\n",
        "    model.add(Activation('softmax', name='last_act'))\n",
        "\n",
        "    return model"
      ],
      "execution_count": 0,
      "outputs": []
    },
    {
      "cell_type": "code",
      "metadata": {
        "id": "3RZ2uOmk4aw6",
        "colab_type": "code",
        "colab": {
          "base_uri": "https://localhost:8080/",
          "height": 799
        },
        "outputId": "ed902e38-4576-402b-bd79-b149e7bde4c3"
      },
      "source": [
        "model = model_sequential()\n",
        "\n",
        "#modelの構成をプリントする\n",
        "model.summary()\n",
        "\n",
        "#どのように学習を行うのかを決める\n",
        "#optimizer(最適化を行う)、loss(誤差計算を行う)、\n",
        "#metrics(modelの性能を測る指標を指定する) accuracy(推論した数に対して、何回正解したかを計算する)\n",
        "model.compile(optimizer='rmsprop',\n",
        "              loss='categorical_crossentropy',\n",
        "              metrics=['accuracy'])"
      ],
      "execution_count": 11,
      "outputs": [
        {
          "output_type": "stream",
          "text": [
            "WARNING: Logging before flag parsing goes to stderr.\n",
            "W0829 10:47:22.514368 139758330214272 deprecation_wrapper.py:119] From /usr/local/lib/python3.6/dist-packages/keras/backend/tensorflow_backend.py:74: The name tf.get_default_graph is deprecated. Please use tf.compat.v1.get_default_graph instead.\n",
            "\n",
            "W0829 10:47:22.563245 139758330214272 deprecation_wrapper.py:119] From /usr/local/lib/python3.6/dist-packages/keras/backend/tensorflow_backend.py:517: The name tf.placeholder is deprecated. Please use tf.compat.v1.placeholder instead.\n",
            "\n",
            "W0829 10:47:22.573148 139758330214272 deprecation_wrapper.py:119] From /usr/local/lib/python3.6/dist-packages/keras/backend/tensorflow_backend.py:4138: The name tf.random_uniform is deprecated. Please use tf.random.uniform instead.\n",
            "\n",
            "W0829 10:47:22.619809 139758330214272 deprecation_wrapper.py:119] From /usr/local/lib/python3.6/dist-packages/keras/backend/tensorflow_backend.py:3976: The name tf.nn.max_pool is deprecated. Please use tf.nn.max_pool2d instead.\n",
            "\n",
            "W0829 10:47:22.691643 139758330214272 deprecation_wrapper.py:119] From /usr/local/lib/python3.6/dist-packages/keras/optimizers.py:790: The name tf.train.Optimizer is deprecated. Please use tf.compat.v1.train.Optimizer instead.\n",
            "\n",
            "W0829 10:47:22.712530 139758330214272 deprecation_wrapper.py:119] From /usr/local/lib/python3.6/dist-packages/keras/backend/tensorflow_backend.py:3295: The name tf.log is deprecated. Please use tf.math.log instead.\n",
            "\n"
          ],
          "name": "stderr"
        },
        {
          "output_type": "stream",
          "text": [
            "_________________________________________________________________\n",
            "Layer (type)                 Output Shape              Param #   \n",
            "=================================================================\n",
            "conv1 (Conv2D)               (None, 28, 28, 32)        320       \n",
            "_________________________________________________________________\n",
            "act1 (Activation)            (None, 28, 28, 32)        0         \n",
            "_________________________________________________________________\n",
            "pool1 (MaxPooling2D)         (None, 14, 14, 32)        0         \n",
            "_________________________________________________________________\n",
            "conv2 (Conv2D)               (None, 14, 14, 64)        18496     \n",
            "_________________________________________________________________\n",
            "act2 (Activation)            (None, 14, 14, 64)        0         \n",
            "_________________________________________________________________\n",
            "pool2 (MaxPooling2D)         (None, 7, 7, 64)          0         \n",
            "_________________________________________________________________\n",
            "conv3 (Conv2D)               (None, 7, 7, 128)         73856     \n",
            "_________________________________________________________________\n",
            "act3 (Activation)            (None, 7, 7, 128)         0         \n",
            "_________________________________________________________________\n",
            "flatten (Flatten)            (None, 6272)              0         \n",
            "_________________________________________________________________\n",
            "dense4 (Dense)               (None, 64)                401472    \n",
            "_________________________________________________________________\n",
            "act4 (Activation)            (None, 64)                0         \n",
            "_________________________________________________________________\n",
            "dense5 (Dense)               (None, 10)                650       \n",
            "_________________________________________________________________\n",
            "last_act (Activation)        (None, 10)                0         \n",
            "=================================================================\n",
            "Total params: 494,794\n",
            "Trainable params: 494,794\n",
            "Non-trainable params: 0\n",
            "_________________________________________________________________\n"
          ],
          "name": "stdout"
        }
      ]
    },
    {
      "cell_type": "code",
      "metadata": {
        "id": "wY-NqXVCyFvs",
        "colab_type": "code",
        "colab": {}
      },
      "source": [
        "#データ拡張\n",
        "#modelの性能を上げるためにデータ量を増やす。\n",
        "#なぜなら、学習データが少ないと過学習がおきてしまい汎化性能が出ないと言われるので\n",
        "datagen = ImageDataGenerator(\n",
        "    featurewise_center=False,\n",
        "    samplewise_center=False,\n",
        "    featurewise_std_normalization=False,\n",
        "    samplewise_std_normalization=False,\n",
        "    zca_whitening=False,\n",
        "    rotation_range=20,\n",
        "    width_shift_range=0.1,\n",
        "    height_shift_range=0.1,\n",
        "    horizontal_flip=False,\n",
        "    vertical_flip=False)"
      ],
      "execution_count": 0,
      "outputs": []
    },
    {
      "cell_type": "code",
      "metadata": {
        "id": "qOLYhyUOBouU",
        "colab_type": "code",
        "colab": {
          "base_uri": "https://localhost:8080/",
          "height": 272
        },
        "outputId": "6441f764-8576-499e-d305-bd5943b80dd1"
      },
      "source": [
        "batch_size=128\n",
        "epochs=5\n",
        "verbose=1\n",
        "steps_per_epoch = x_train.shape[0] // batch_size\n",
        "\n",
        "#学習処理\n",
        "history = model.fit_generator(\n",
        "    datagen.flow(x_train, y_train, batch_size=batch_size),\n",
        "    steps_per_epoch=steps_per_epoch,\n",
        "    epochs=epochs,\n",
        "    verbose=verbose)"
      ],
      "execution_count": 14,
      "outputs": [
        {
          "output_type": "stream",
          "text": [
            "W0829 11:02:28.393806 139758330214272 deprecation.py:323] From /usr/local/lib/python3.6/dist-packages/tensorflow/python/ops/math_grad.py:1250: add_dispatch_support.<locals>.wrapper (from tensorflow.python.ops.array_ops) is deprecated and will be removed in a future version.\n",
            "Instructions for updating:\n",
            "Use tf.where in 2.0, which has the same broadcast rule as np.where\n",
            "W0829 11:02:28.495524 139758330214272 deprecation_wrapper.py:119] From /usr/local/lib/python3.6/dist-packages/keras/backend/tensorflow_backend.py:986: The name tf.assign_add is deprecated. Please use tf.compat.v1.assign_add instead.\n",
            "\n"
          ],
          "name": "stderr"
        },
        {
          "output_type": "stream",
          "text": [
            "Epoch 1/5\n",
            "375/375 [==============================] - 82s 220ms/step - loss: 0.7724 - acc: 0.7109\n",
            "Epoch 2/5\n",
            "375/375 [==============================] - 81s 216ms/step - loss: 0.5108 - acc: 0.8058\n",
            "Epoch 3/5\n",
            "375/375 [==============================] - 81s 216ms/step - loss: 0.4397 - acc: 0.8337\n",
            "Epoch 4/5\n",
            "375/375 [==============================] - 81s 216ms/step - loss: 0.3980 - acc: 0.8501\n",
            "Epoch 5/5\n",
            "375/375 [==============================] - 81s 215ms/step - loss: 0.3734 - acc: 0.8604\n"
          ],
          "name": "stdout"
        }
      ]
    },
    {
      "cell_type": "code",
      "metadata": {
        "id": "yZbBJPgXDcGq",
        "colab_type": "code",
        "colab": {
          "base_uri": "https://localhost:8080/",
          "height": 729
        },
        "outputId": "cf9a57c2-45f1-47ad-a6a1-56a6c964e526"
      },
      "source": [
        "#入力画像と推論結果を表示\n",
        "\n",
        "class_names = ['T-shirt/top', 'Trouser', 'Pullover', 'Dress', 'Coat', \n",
        "               'Sandal', 'Shirt', 'Sneaker', 'Bag', 'Ankle boot']\n",
        "\n",
        "plt.figure(figsize=(10,10))\n",
        "\n",
        "for i in range(10):\n",
        "    data = [(x,t) for x, t in zip(_x_test, _y_test) if t == i]\n",
        "    x, y = data[0]\n",
        "\n",
        "    pred = model.predict(preprocess(x, label=False))\n",
        "\n",
        "    ans = np.argmax(pred)\n",
        "    score = np.max(pred) * 100\n",
        "\n",
        "    plt.subplot(5,2, i+1)\n",
        "    plt.axis(\"off\")\n",
        "    plt.title(\"name={} score={}\\n{}\".format(class_names[ans], score,ans==y))\n",
        "\n",
        "    plt.imshow(x, cmap='gray')\n",
        "\n",
        "\n",
        "plt.tight_layout()\n",
        "plt.show()"
      ],
      "execution_count": 18,
      "outputs": [
        {
          "output_type": "display_data",
          "data": {
            "image/png": "[encoded data removed]",
            "text/plain": [
              "<Figure size 720x720 with 10 Axes>"
            ]
          },
          "metadata": {
            "tags": []
          }
        }
      ]
    },
    {
      "cell_type": "code",
      "metadata": {
        "id": "y1-onvXHDcO3",
        "colab_type": "code",
        "colab": {}
      },
      "source": [
        ""
      ],
      "execution_count": 0,
      "outputs": []
    },
    {
      "cell_type": "code",
      "metadata": {
        "id": "ZyYpD64nDcRf",
        "colab_type": "code",
        "colab": {}
      },
      "source": [
        ""
      ],
      "execution_count": 0,
      "outputs": []
    },
    {
      "cell_type": "code",
      "metadata": {
        "id": "BGXh9P02DcUp",
        "colab_type": "code",
        "colab": {}
      },
      "source": [
        ""
      ],
      "execution_count": 0,
      "outputs": []
    },
    {
      "cell_type": "code",
      "metadata": {
        "id": "6VM-JLiHAIQd",
        "colab_type": "code",
        "colab": {}
      },
      "source": [
        ""
      ],
      "execution_count": 0,
      "outputs": []
    }
  ]
}