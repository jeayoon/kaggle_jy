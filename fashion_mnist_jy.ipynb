{
  "nbformat": 4,
  "nbformat_minor": 0,
  "metadata": {
    "colab": {
      "name": "fashion_mnist_jy.ipynb",
      "version": "0.3.2",
      "provenance": [],
      "include_colab_link": true
    },
    "kernelspec": {
      "name": "python3",
      "display_name": "Python 3"
    }
  },
  "cells": [
    {
      "cell_type": "markdown",
      "metadata": {
        "id": "view-in-github",
        "colab_type": "text"
      },
      "source": [
        "<a href=\"https://colab.research.google.com/github/jeayoon/kaggle_jy/blob/master/fashion_mnist_jy.ipynb\" target=\"_parent\"><img src=\"https://colab.research.google.com/assets/colab-badge.svg\" alt=\"Open In Colab\"/></a>"
      ]
    },
    {
      "cell_type": "code",
      "metadata": {
        "id": "F1gqCBcM6UTM",
        "colab_type": "code",
        "colab": {
          "base_uri": "https://localhost:8080/",
          "height": 34
        },
        "outputId": "e65c2396-0f35-4a16-fbd9-93add0199e58"
      },
      "source": [
        "import keras"
      ],
      "execution_count": 1,
      "outputs": [
        {
          "output_type": "stream",
          "text": [
            "Using TensorFlow backend.\n"
          ],
          "name": "stderr"
        }
      ]
    },
    {
      "cell_type": "code",
      "metadata": {
        "id": "moMbojF57Vcb",
        "colab_type": "code",
        "colab": {}
      },
      "source": [
        "from keras.datasets import fashion_mnist\n",
        "from keras.utils import to_categorical\n",
        "from keras.preprocessing.image import ImageDataGenerator\n",
        "from keras.preprocessing import image\n",
        "from keras import models\n",
        "from keras.models import Model\n",
        "from keras import Input\n",
        "from keras.layers import Activation, Conv2D, MaxPooling2D, Flatten, Dense\n",
        "from keras.callbacks import TensorBoard, ModelCheckpoint\n",
        "import matplotlib.pyplot as plt\n",
        "import numpy as np\n",
        "from sklearn.model_selection import train_test_split"
      ],
      "execution_count": 0,
      "outputs": []
    },
    {
      "cell_type": "code",
      "metadata": {
        "id": "Ms8zWuU57YA7",
        "colab_type": "code",
        "colab": {
          "base_uri": "https://localhost:8080/",
          "height": 153
        },
        "outputId": "2ff58cd8-1198-41f5-cd2d-50e036a0ca67"
      },
      "source": [
        "(x_train, y_train), (x_test, y_test) = fashion_mnist.load_data()"
      ],
      "execution_count": 4,
      "outputs": [
        {
          "output_type": "stream",
          "text": [
            "Downloading data from http://fashion-mnist.s3-website.eu-central-1.amazonaws.com/train-labels-idx1-ubyte.gz\n",
            "32768/29515 [=================================] - 0s 4us/step\n",
            "Downloading data from http://fashion-mnist.s3-website.eu-central-1.amazonaws.com/train-images-idx3-ubyte.gz\n",
            "26427392/26421880 [==============================] - 2s 0us/step\n",
            "Downloading data from http://fashion-mnist.s3-website.eu-central-1.amazonaws.com/t10k-labels-idx1-ubyte.gz\n",
            "8192/5148 [===============================================] - 0s 0us/step\n",
            "Downloading data from http://fashion-mnist.s3-website.eu-central-1.amazonaws.com/t10k-images-idx3-ubyte.gz\n",
            "4423680/4422102 [==============================] - 1s 0us/step\n"
          ],
          "name": "stdout"
        }
      ]
    },
    {
      "cell_type": "code",
      "metadata": {
        "id": "B2w_fKyd-cih",
        "colab_type": "code",
        "colab": {}
      },
      "source": [
        "# 学習中の検証データがないので、train_test_split()を使って学習データ8割、検証データを2割に分割する。test_sizeが検証データの割合になっている。\n",
        "_x_train, _x_test, _y_train, _y_test = train_test_split(x_train, y_train, test_size=0.2)"
      ],
      "execution_count": 0,
      "outputs": []
    },
    {
      "cell_type": "code",
      "metadata": {
        "id": "rYHqw_Je-ct4",
        "colab_type": "code",
        "colab": {
          "base_uri": "https://localhost:8080/",
          "height": 85
        },
        "outputId": "e3458fd7-e40b-4ea0-a5b6-bdd4989d93ec"
      },
      "source": [
        "print(\"x_train   : \", _x_train.shape) # x_train   :  (48000, 28, 28)\n",
        "print(\"y_train   : \", _y_train.shape) # y_train   :  (48000,)\n",
        "print(\"x_test    : \", _x_test.shape) # x_test    :  (10000, 28, 28)\n",
        "print(\"y_test    : \", _y_test.shape) # y_test    :  (10000,)"
      ],
      "execution_count": 8,
      "outputs": [
        {
          "output_type": "stream",
          "text": [
            "x_train   :  (48000, 28, 28)\n",
            "y_train   :  (48000,)\n",
            "x_test    :  (12000, 28, 28)\n",
            "y_test    :  (12000,)\n"
          ],
          "name": "stdout"
        }
      ]
    },
    {
      "cell_type": "code",
      "metadata": {
        "id": "weMIuoWRAIGu",
        "colab_type": "code",
        "colab": {
          "base_uri": "https://localhost:8080/",
          "height": 729
        },
        "outputId": "5f057143-78fe-4836-c7a4-979d68c1b5fe"
      },
      "source": [
        "plt.figure(figsize=(10,10))\n",
        "\n",
        "# MNISTの0から9の画像をそれぞれ表示する。\n",
        "for i in range(10):\n",
        "    data = [(x,t) for x, t in zip(_x_train, _y_train) if t == i]\n",
        "    x, y = data[0]\n",
        "\n",
        "    plt.subplot(5,2, i+1)\n",
        "    # plt.title()はタイトルを表示する。ここでは画像枚数を表示している。\n",
        "    plt.title(\"len={}\".format(len(data)))\n",
        "    # 画像を見やすいように座標軸を非表示にする。\n",
        "    plt.axis(\"off\")\n",
        "    plt.imshow(x, cmap='gray')\n",
        "\n",
        "plt.tight_layout()\n",
        "plt.show()"
      ],
      "execution_count": 9,
      "outputs": [
        {
          "output_type": "display_data",
          "data": {
            "image/png": "[encoded data removed]",
            "text/plain": [
              "<Figure size 720x720 with 10 Axes>"
            ]
          },
          "metadata": {
            "tags": []
          }
        }
      ]
    },
    {
      "cell_type": "code",
      "metadata": {
        "id": "WUWNFzL8Bok2",
        "colab_type": "code",
        "colab": {}
      },
      "source": [
        "# 学習、検証、テストデータの前処理用関数。\n",
        "def preprocess(data, label=False):\n",
        "    if label:\n",
        "        # 教師データはto_categorical()でAQQQWQAQEEEEEË5RFRFDSZする。\n",
        "        data = to_categorical(data)\n",
        "    else:\n",
        "        # 入力画像は、astype('float32')で型変換を行い、レンジを0-1にするために255で割る。\n",
        "        # 0-255 -> 0-1\n",
        "        data = data.astype('float32') / 255\n",
        "        # Kerasの入力データの形式は(ミニバッチサイズ、横幅、縦幅、チャネル数)である必要があるので、reshape()を使って形式を変換する。\n",
        "        # (sample, width, height) -> (sample, width, height, channel)\n",
        "        data = data.reshape((-1, 28, 28, 1))\n",
        "\n",
        "    return data"
      ],
      "execution_count": 0,
      "outputs": []
    },
    {
      "cell_type": "code",
      "metadata": {
        "id": "TEczjhUcBoqp",
        "colab_type": "code",
        "colab": {}
      },
      "source": [
        ""
      ],
      "execution_count": 0,
      "outputs": []
    },
    {
      "cell_type": "code",
      "metadata": {
        "id": "qOLYhyUOBouU",
        "colab_type": "code",
        "colab": {}
      },
      "source": [
        ""
      ],
      "execution_count": 0,
      "outputs": []
    },
    {
      "cell_type": "code",
      "metadata": {
        "id": "6VM-JLiHAIQd",
        "colab_type": "code",
        "colab": {}
      },
      "source": [
        ""
      ],
      "execution_count": 0,
      "outputs": []
    }
  ]
}