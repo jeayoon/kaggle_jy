{
  "nbformat": 4,
  "nbformat_minor": 0,
  "metadata": {
    "colab": {
      "name": "mnist_jy.ipynb",
      "version": "0.3.2",
      "provenance": [],
      "include_colab_link": true
    },
    "kernelspec": {
      "name": "python3",
      "display_name": "Python 3"
    },
    "accelerator": "GPU"
  },
  "cells": [
    {
      "cell_type": "markdown",
      "metadata": {
        "id": "view-in-github",
        "colab_type": "text"
      },
      "source": [
        "<a href=\"https://colab.research.google.com/github/jeayoon/kaggle_jy/blob/master/mnist_jy.ipynb\" target=\"_parent\"><img src=\"https://colab.research.google.com/assets/colab-badge.svg\" alt=\"Open In Colab\"/></a>"
      ]
    },
    {
      "cell_type": "code",
      "metadata": {
        "id": "AVc8sQltpvke",
        "colab_type": "code",
        "colab": {
          "base_uri": "https://localhost:8080/",
          "height": 34
        },
        "outputId": "a0c3286a-1ca6-4eef-eff9-b3820b441805"
      },
      "source": [
        "import keras"
      ],
      "execution_count": 1,
      "outputs": [
        {
          "output_type": "stream",
          "text": [
            "Using TensorFlow backend.\n"
          ],
          "name": "stderr"
        }
      ]
    },
    {
      "cell_type": "code",
      "metadata": {
        "id": "c3XuyDtgqnrM",
        "colab_type": "code",
        "colab": {}
      },
      "source": [
        "from keras.datasets import mnist\n",
        "from keras.utils import to_categorical\n",
        "from keras.preprocessing.image import ImageDataGenerator\n",
        "from keras.preprocessing import image\n",
        "from keras import models\n",
        "from keras.models import Model\n",
        "from keras import Input\n",
        "from keras.layers import Activation, Conv2D, MaxPooling2D, Flatten, Dense\n",
        "from keras.callbacks import TensorBoard, ModelCheckpoint\n",
        "import matplotlib.pyplot as plt\n",
        "import numpy as np\n",
        "from sklearn.model_selection import train_test_split"
      ],
      "execution_count": 0,
      "outputs": []
    },
    {
      "cell_type": "code",
      "metadata": {
        "id": "P0NZnljPq8NC",
        "colab_type": "code",
        "colab": {
          "base_uri": "https://localhost:8080/",
          "height": 34
        },
        "outputId": "641474dd-3f50-461c-e7ac-87f66dff6f6b"
      },
      "source": [
        "print(keras.__version__)"
      ],
      "execution_count": 3,
      "outputs": [
        {
          "output_type": "stream",
          "text": [
            "2.2.4\n"
          ],
          "name": "stdout"
        }
      ]
    },
    {
      "cell_type": "code",
      "metadata": {
        "id": "SqiFGpReq-42",
        "colab_type": "code",
        "colab": {}
      },
      "source": [
        "# 学習データとテストデータを取得する。\n",
        "(_x_train_val, _y_train_val), (_x_test, _y_test) = mnist.load_data()"
      ],
      "execution_count": 0,
      "outputs": []
    },
    {
      "cell_type": "code",
      "metadata": {
        "id": "q3W--tRwrMDx",
        "colab_type": "code",
        "colab": {
          "base_uri": "https://localhost:8080/",
          "height": 119
        },
        "outputId": "d91b169e-0ff7-4b0d-d7c3-1a35bd3cc92c"
      },
      "source": [
        "# 学習中の検証データがないので、train_test_split()を使って学習データ8割、検証データを2割に分割する。test_sizeが検証データの割合になっている。\n",
        "_x_train, _x_val, _y_train, _y_val = train_test_split(_x_train_val, _y_train_val, test_size=0.2)\n",
        "\n",
        "print(\"x_train   : \", _x_train.shape) # x_train   :  (48000, 28, 28)\n",
        "print(\"y_train   : \", _y_train.shape) # y_train   :  (48000,)\n",
        "print(\"x_val      : \", _x_val.shape) # x_val      :  (12000, 28, 28)\n",
        "print(\"y_val      : \", _y_val.shape) # y_val      :  (12000,)\n",
        "print(\"x_test    : \", _x_test.shape) # x_test    :  (10000, 28, 28)\n",
        "print(\"y_test    : \", _y_test.shape) # y_test    :  (10000,)"
      ],
      "execution_count": 5,
      "outputs": [
        {
          "output_type": "stream",
          "text": [
            "x_train   :  (48000, 28, 28)\n",
            "y_train   :  (48000,)\n",
            "x_val      :  (12000, 28, 28)\n",
            "y_val      :  (12000,)\n",
            "x_test    :  (10000, 28, 28)\n",
            "y_test    :  (10000,)\n"
          ],
          "name": "stdout"
        }
      ]
    },
    {
      "cell_type": "code",
      "metadata": {
        "id": "C8K-EQYprP71",
        "colab_type": "code",
        "colab": {
          "base_uri": "https://localhost:8080/",
          "height": 729
        },
        "outputId": "b028eb68-b57f-48e8-fa68-f23ea22a5f0b"
      },
      "source": [
        "plt.figure(figsize=(10,10))\n",
        "\n",
        "# MNISTの0から9の画像をそれぞれ表示する。\n",
        "for i in range(10):\n",
        "    data = [(x,t) for x, t in zip(_x_train, _y_train) if t == i]\n",
        "    x, y = data[0]\n",
        "\n",
        "    plt.subplot(5,2, i+1)\n",
        "    # plt.title()はタイトルを表示する。ここでは画像枚数を表示している。\n",
        "    plt.title(\"len={}\".format(len(data)))\n",
        "    # 画像を見やすいように座標軸を非表示にする。\n",
        "    plt.axis(\"off\")\n",
        "    plt.imshow(x, cmap='gray')\n",
        "\n",
        "plt.tight_layout()\n",
        "plt.show()"
      ],
      "execution_count": 6,
      "outputs": [
        {
          "output_type": "display_data",
          "data": {
            "image/png": "[encoded data removed]",
            "text/plain": [
              "<Figure size 720x720 with 10 Axes>"
            ]
          },
          "metadata": {
            "tags": []
          }
        }
      ]
    },
    {
      "cell_type": "code",
      "metadata": {
        "id": "obylw5fqrh2Z",
        "colab_type": "code",
        "colab": {}
      },
      "source": [
        "# 学習、検証、テストデータの前処理用関数。\n",
        "def preprocess(data, label=False):\n",
        "    if label:\n",
        "        # 教師データはto_categorical()でone-hot-encodingする。\n",
        "        data = to_categorical(data)\n",
        "    else:\n",
        "        # 入力画像は、astype('float32')で型変換を行い、レンジを0-1にするために255で割る。\n",
        "        # 0-255 -> 0-1\n",
        "        data = data.astype('float32') / 255\n",
        "        # Kerasの入力データの形式は(ミニバッチサイズ、横幅、縦幅、チャネル数)である必要があるので、reshape()を使って形式を変換する。\n",
        "        # (sample, width, height) -> (sample, width, height, channel)\n",
        "        data = data.reshape((-1, 28, 28, 1))\n",
        "\n",
        "    return data"
      ],
      "execution_count": 0,
      "outputs": []
    },
    {
      "cell_type": "code",
      "metadata": {
        "id": "1rd0_iMoxCQ_",
        "colab_type": "code",
        "colab": {
          "base_uri": "https://localhost:8080/",
          "height": 170
        },
        "outputId": "1e5e754e-15ef-44db-bdaf-13d56488020f"
      },
      "source": [
        "x_train = preprocess(_x_train)\n",
        "x_val= preprocess(_x_val)\n",
        "x_test = preprocess(_x_test)\n",
        "\n",
        "y_train = preprocess(_y_train, label=True)\n",
        "y_val = preprocess(_y_val, label=True)\n",
        "y_test = preprocess(_y_test, label=True)\n",
        "\n",
        "print(x_train.shape) # (48000, 28, 28, 1)\n",
        "print(x_val.shape) # (12000, 28, 28, 1)\n",
        "print(x_test.shape) # (10000, 28, 28, 1)\n",
        "print(x_train.max()) # 1.0\n",
        "print(x_val.max()) # 1.0\n",
        "print(y_test.max()) # 1.0\n",
        "print(y_train.shape) # (48000, 10)\n",
        "print(y_val.shape) # (12000, 10) \n",
        "print(y_test.shape) # (10000, 10)"
      ],
      "execution_count": 8,
      "outputs": [
        {
          "output_type": "stream",
          "text": [
            "(48000, 28, 28, 1)\n",
            "(12000, 28, 28, 1)\n",
            "(10000, 28, 28, 1)\n",
            "1.0\n",
            "1.0\n",
            "1.0\n",
            "(48000, 10)\n",
            "(12000, 10)\n",
            "(10000, 10)\n"
          ],
          "name": "stdout"
        }
      ]
    },
    {
      "cell_type": "code",
      "metadata": {
        "id": "GU76dFR5y_HK",
        "colab_type": "code",
        "colab": {}
      },
      "source": [
        "def model_sequential():\n",
        "    activation = 'relu'\n",
        "\n",
        "    model = models.Sequential()\n",
        "\n",
        "    model.add(Conv2D(32, (3, 3), padding='same', name='conv1', input_shape=(28, 28 , 1)))\n",
        "    model.add(Activation(activation, name='act1'))\n",
        "    model.add(MaxPooling2D((2, 2), name='pool1'))\n",
        "\n",
        "    model.add(Conv2D(64, (3, 3), padding='same', name='conv2'))\n",
        "    model.add(Activation(activation, name='act2'))\n",
        "    model.add(MaxPooling2D((2, 2), name='pool2'))\n",
        "\n",
        "    model.add(Conv2D(128, (3, 3), padding='same', name='conv3'))\n",
        "    model.add(Activation(activation, name='act3'))\n",
        "\n",
        "    model.add(Flatten(name='flatten'))\n",
        "    model.add(Dense(64, name='dense4'))\n",
        "    model.add(Activation(activation, name='act4'))\n",
        "    model.add(Dense(10, name='dense5'))\n",
        "    model.add(Activation('softmax', name='last_act'))\n",
        "\n",
        "    return model"
      ],
      "execution_count": 0,
      "outputs": []
    },
    {
      "cell_type": "code",
      "metadata": {
        "id": "6JmPe8v_z3X4",
        "colab_type": "code",
        "colab": {
          "base_uri": "https://localhost:8080/",
          "height": 819
        },
        "outputId": "b2f676e2-00b2-46af-ce2e-b908260465c1"
      },
      "source": [
        "model = model_sequential()\n",
        "model.summary()\n",
        "model.compile(optimizer='rmsprop',\n",
        "              loss='categorical_crossentropy',\n",
        "              metrics=['accuracy'])"
      ],
      "execution_count": 10,
      "outputs": [
        {
          "output_type": "stream",
          "text": [
            "WARNING: Logging before flag parsing goes to stderr.\n",
            "W0821 11:18:42.561486 139872610768768 deprecation_wrapper.py:119] From /usr/local/lib/python3.6/dist-packages/keras/backend/tensorflow_backend.py:74: The name tf.get_default_graph is deprecated. Please use tf.compat.v1.get_default_graph instead.\n",
            "\n",
            "W0821 11:18:42.578579 139872610768768 deprecation_wrapper.py:119] From /usr/local/lib/python3.6/dist-packages/keras/backend/tensorflow_backend.py:517: The name tf.placeholder is deprecated. Please use tf.compat.v1.placeholder instead.\n",
            "\n",
            "W0821 11:18:42.581035 139872610768768 deprecation_wrapper.py:119] From /usr/local/lib/python3.6/dist-packages/keras/backend/tensorflow_backend.py:4138: The name tf.random_uniform is deprecated. Please use tf.random.uniform instead.\n",
            "\n",
            "W0821 11:18:42.597585 139872610768768 deprecation_wrapper.py:119] From /usr/local/lib/python3.6/dist-packages/keras/backend/tensorflow_backend.py:3976: The name tf.nn.max_pool is deprecated. Please use tf.nn.max_pool2d instead.\n",
            "\n",
            "W0821 11:18:42.664870 139872610768768 deprecation_wrapper.py:119] From /usr/local/lib/python3.6/dist-packages/keras/optimizers.py:790: The name tf.train.Optimizer is deprecated. Please use tf.compat.v1.train.Optimizer instead.\n",
            "\n",
            "W0821 11:18:42.684221 139872610768768 deprecation_wrapper.py:119] From /usr/local/lib/python3.6/dist-packages/keras/backend/tensorflow_backend.py:3295: The name tf.log is deprecated. Please use tf.math.log instead.\n",
            "\n"
          ],
          "name": "stderr"
        },
        {
          "output_type": "stream",
          "text": [
            "_________________________________________________________________\n",
            "Layer (type)                 Output Shape              Param #   \n",
            "=================================================================\n",
            "conv1 (Conv2D)               (None, 28, 28, 32)        320       \n",
            "_________________________________________________________________\n",
            "act1 (Activation)            (None, 28, 28, 32)        0         \n",
            "_________________________________________________________________\n",
            "pool1 (MaxPooling2D)         (None, 14, 14, 32)        0         \n",
            "_________________________________________________________________\n",
            "conv2 (Conv2D)               (None, 14, 14, 64)        18496     \n",
            "_________________________________________________________________\n",
            "act2 (Activation)            (None, 14, 14, 64)        0         \n",
            "_________________________________________________________________\n",
            "pool2 (MaxPooling2D)         (None, 7, 7, 64)          0         \n",
            "_________________________________________________________________\n",
            "conv3 (Conv2D)               (None, 7, 7, 128)         73856     \n",
            "_________________________________________________________________\n",
            "act3 (Activation)            (None, 7, 7, 128)         0         \n",
            "_________________________________________________________________\n",
            "flatten (Flatten)            (None, 6272)              0         \n",
            "_________________________________________________________________\n",
            "dense4 (Dense)               (None, 64)                401472    \n",
            "_________________________________________________________________\n",
            "act4 (Activation)            (None, 64)                0         \n",
            "_________________________________________________________________\n",
            "dense5 (Dense)               (None, 10)                650       \n",
            "_________________________________________________________________\n",
            "last_act (Activation)        (None, 10)                0         \n",
            "=================================================================\n",
            "Total params: 494,794\n",
            "Trainable params: 494,794\n",
            "Non-trainable params: 0\n",
            "_________________________________________________________________\n"
          ],
          "name": "stdout"
        }
      ]
    },
    {
      "cell_type": "code",
      "metadata": {
        "id": "zijnsMhX4C0E",
        "colab_type": "code",
        "colab": {}
      },
      "source": [
        "datagen = ImageDataGenerator(\n",
        "    featurewise_center=False,\n",
        "    samplewise_center=False,\n",
        "    featurewise_std_normalization=False,\n",
        "    samplewise_std_normalization=False,\n",
        "    zca_whitening=False,\n",
        "    rotation_range=20,\n",
        "    width_shift_range=0.1,\n",
        "    height_shift_range=0.1,\n",
        "    horizontal_flip=False,\n",
        "    vertical_flip=False)"
      ],
      "execution_count": 0,
      "outputs": []
    },
    {
      "cell_type": "code",
      "metadata": {
        "id": "XINuFj_l3eYu",
        "colab_type": "code",
        "colab": {
          "base_uri": "https://localhost:8080/",
          "height": 292
        },
        "outputId": "aec504e0-7ac7-45a5-9ca1-29f99a94b3b1"
      },
      "source": [
        "batch_size=128\n",
        "epochs=5\n",
        "verbose=1\n",
        "steps_per_epoch = x_train.shape[0] // batch_size\n",
        "\n",
        "history = model.fit_generator(\n",
        "    datagen.flow(x_train, y_train, batch_size=batch_size),\n",
        "    steps_per_epoch=steps_per_epoch,\n",
        "    epochs=epochs,\n",
        "    validation_data=(x_val, y_val),\n",
        "    verbose=verbose)"
      ],
      "execution_count": 12,
      "outputs": [
        {
          "output_type": "stream",
          "text": [
            "W0821 11:18:42.801869 139872610768768 deprecation.py:323] From /usr/local/lib/python3.6/dist-packages/tensorflow/python/ops/math_grad.py:1250: add_dispatch_support.<locals>.wrapper (from tensorflow.python.ops.array_ops) is deprecated and will be removed in a future version.\n",
            "Instructions for updating:\n",
            "Use tf.where in 2.0, which has the same broadcast rule as np.where\n",
            "W0821 11:18:42.902624 139872610768768 deprecation_wrapper.py:119] From /usr/local/lib/python3.6/dist-packages/keras/backend/tensorflow_backend.py:986: The name tf.assign_add is deprecated. Please use tf.compat.v1.assign_add instead.\n",
            "\n"
          ],
          "name": "stderr"
        },
        {
          "output_type": "stream",
          "text": [
            "Epoch 1/5\n",
            "375/375 [==============================] - 14s 36ms/step - loss: 0.4030 - acc: 0.8714 - val_loss: 0.0884 - val_acc: 0.9709\n",
            "Epoch 2/5\n",
            "375/375 [==============================] - 11s 28ms/step - loss: 0.1056 - acc: 0.9667 - val_loss: 0.0472 - val_acc: 0.9850\n",
            "Epoch 3/5\n",
            "375/375 [==============================] - 11s 28ms/step - loss: 0.0741 - acc: 0.9765 - val_loss: 0.0314 - val_acc: 0.9901\n",
            "Epoch 4/5\n",
            "375/375 [==============================] - 11s 28ms/step - loss: 0.0602 - acc: 0.9817 - val_loss: 0.0330 - val_acc: 0.9899\n",
            "Epoch 5/5\n",
            "375/375 [==============================] - 11s 29ms/step - loss: 0.0505 - acc: 0.9836 - val_loss: 0.0320 - val_acc: 0.9897\n"
          ],
          "name": "stdout"
        }
      ]
    },
    {
      "cell_type": "code",
      "metadata": {
        "id": "k60J20D35ECy",
        "colab_type": "code",
        "colab": {
          "base_uri": "https://localhost:8080/",
          "height": 269
        },
        "outputId": "c107acfc-9a48-419c-9609-69ae5ed66669"
      },
      "source": [
        "acc = history.history['acc']\n",
        "val_acc = history.history['val_acc']\n",
        "\n",
        "epochs = range(1, len(acc)+1)\n",
        "plt.plot(epochs, acc, 'b', label='Training accuracy')\n",
        "plt.plot(epochs, val_acc, 'r', label='Val accuracy')\n",
        "plt.legend()\n",
        "plt.show()"
      ],
      "execution_count": 13,
      "outputs": [
        {
          "output_type": "display_data",
          "data": {
            "image/png": "[encoded data removed]",
            "text/plain": [
              "<Figure size 432x288 with 1 Axes>"
            ]
          },
          "metadata": {
            "tags": []
          }
        }
      ]
    },
    {
      "cell_type": "code",
      "metadata": {
        "id": "qZGNkbHr5KZg",
        "colab_type": "code",
        "colab": {
          "base_uri": "https://localhost:8080/",
          "height": 269
        },
        "outputId": "74bc377a-28e8-4322-b9be-64c7b4ce8710"
      },
      "source": [
        "loss = history.history['loss']\n",
        "val_loss = history.history['val_loss']\n",
        "\n",
        "epochs = range(1, len(loss)+1 )\n",
        "plt.plot(epochs, loss, 'b', label='Training loss')\n",
        "plt.plot(epochs, val_loss, 'r', label='Val loss')\n",
        "plt.legend()\n",
        "plt.show()"
      ],
      "execution_count": 14,
      "outputs": [
        {
          "output_type": "display_data",
          "data": {
            "image/png": "[encoded data removed]",
            "text/plain": [
              "<Figure size 432x288 with 1 Axes>"
            ]
          },
          "metadata": {
            "tags": []
          }
        }
      ]
    }
  ]
}